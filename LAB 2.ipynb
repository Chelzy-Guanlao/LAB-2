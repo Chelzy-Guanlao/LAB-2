{
 "cells": [
  {
   "cell_type": "code",
   "execution_count": 4,
   "metadata": {},
   "outputs": [
    {
     "name": "stdout",
     "output_type": "stream",
     "text": [
      "2^4 = 16\n"
     ]
    }
   ],
   "source": [
    "#Exercise 1\n",
    "def powers(base, exponent):\n",
    "    if exponent == 0:\n",
    "        return 1\n",
    "    else:\n",
    "        return base * powers(base, exponent - 1)\n",
    "\n",
    "base = int(input(\"Enter your base: \"))\n",
    "exponent = int(input(\"Enter the exponent: \"))\n",
    "result = powers(base, exponent)\n",
    "print(f\"{base}^{exponent} = {result}\")"
   ]
  },
  {
   "cell_type": "code",
   "execution_count": 5,
   "metadata": {},
   "outputs": [
    {
     "name": "stdout",
     "output_type": "stream",
     "text": [
      "\n",
      "Cubes of each elements are:\n",
      "1000\n",
      "8000\n",
      "27000\n"
     ]
    }
   ],
   "source": [
    "#Exercise 2\n",
    "size = int(input(\"Enter the size of the array: \"))\n",
    "\n",
    "elements = list(map(int, input(\"Enter the elements separated by space: \").split()))\n",
    "\n",
    "print(\"\\nCubes of each elements are:\")\n",
    "for element in elements:\n",
    "    print(element ** 3)\n"
   ]
  },
  {
   "cell_type": "code",
   "execution_count": 6,
   "metadata": {},
   "outputs": [
    {
     "name": "stdout",
     "output_type": "stream",
     "text": [
      "xxxxxxxx\n",
      "x      x\n",
      "x      x\n",
      "x      x\n",
      "x      x\n",
      "x      x\n",
      "x      x\n",
      "xxxxxxxx\n"
     ]
    }
   ],
   "source": [
    "#Exercise 3\n",
    "square = int(input(\"Enter the side length of the square: \"))\n",
    "\n",
    "for i in range(square):\n",
    "    if i == 0 or i == square - 1:\n",
    "        print('x' * square)\n",
    "    else:\n",
    "        print('x' + ' ' * (square - 2) + 'x')"
   ]
  },
  {
   "cell_type": "code",
   "execution_count": 7,
   "metadata": {},
   "outputs": [
    {
     "name": "stdout",
     "output_type": "stream",
     "text": [
      "********\n",
      "*******\n",
      "******\n",
      "*****\n",
      "****\n",
      "***\n",
      "**\n",
      "*\n"
     ]
    }
   ],
   "source": [
    "#Exercise 4\n",
    "triangle = int(input(\"Enter the height of the triangle: \"))\n",
    "\n",
    "for i in range(triangle, 0, -1):\n",
    "    print('*' * i)"
   ]
  }
 ],
 "metadata": {
  "kernelspec": {
   "display_name": "Python 3",
   "language": "python",
   "name": "python3"
  },
  "language_info": {
   "codemirror_mode": {
    "name": "ipython",
    "version": 3
   },
   "file_extension": ".py",
   "mimetype": "text/x-python",
   "name": "python",
   "nbconvert_exporter": "python",
   "pygments_lexer": "ipython3",
   "version": "3.12.0"
  }
 },
 "nbformat": 4,
 "nbformat_minor": 2
}
